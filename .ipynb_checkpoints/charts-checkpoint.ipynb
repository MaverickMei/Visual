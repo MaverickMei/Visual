{
 "cells": [
  {
   "cell_type": "code",
   "execution_count": 1,
   "metadata": {
    "pycharm": {
     "is_executing": false,
     "name": "#%%\n"
    }
   },
   "outputs": [
    {
     "data": {
      "text/plain": [
       "'E:\\\\Desktop\\\\Python Learning Notes\\\\AA_Visual\\\\pic.html'"
      ]
     },
     "execution_count": 1,
     "metadata": {},
     "output_type": "execute_result"
    }
   ],
   "source": [
    "from pyecharts.faker import Faker\n",
    "from pyecharts import options as opts\n",
    "from pyecharts.charts import EffectScatter\n",
    "from pyecharts.globals import SymbolType\n",
    "\n",
    "\n",
    "def effectscatter_base() -> EffectScatter:\n",
    "    c = (\n",
    "        EffectScatter()\n",
    "        .add_xaxis(Faker.choose())\n",
    "        .add_yaxis(\"\", Faker.values())\n",
    "        .set_global_opts(title_opts=opts.TitleOpts(title=\"EffectScatter-基本示例\"))\n",
    "    )\n",
    "    return c\n",
    "\n",
    "\n",
    "effectscatter_base().render('picccc.html')\n"
   ]
  },
  {
   "cell_type": "code",
   "execution_count": null,
   "metadata": {},
   "outputs": [],
   "source": []
  }
 ],
 "metadata": {
  "kernelspec": {
   "display_name": "Python 3",
   "language": "python",
   "name": "python3"
  },
  "language_info": {
   "codemirror_mode": {
    "name": "ipython",
    "version": 3
   },
   "file_extension": ".py",
   "mimetype": "text/x-python",
   "name": "python",
   "nbconvert_exporter": "python",
   "pygments_lexer": "ipython3",
   "version": "3.7.1"
  },
  "pycharm": {
   "stem_cell": {
    "cell_type": "raw",
    "metadata": {
     "collapsed": false
    },
    "source": []
   }
  }
 },
 "nbformat": 4,
 "nbformat_minor": 1
}
